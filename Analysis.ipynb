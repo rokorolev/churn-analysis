{
 "cells": [
  {
   "metadata": {},
   "cell_type": "markdown",
   "source": "## Load Data",
   "id": "e4f9d6acbd882c29"
  },
  {
   "metadata": {
    "jupyter": {
     "is_executing": true
    }
   },
   "cell_type": "code",
   "source": [
    "import pandas as pd\n",
    "import torch\n",
    "\n",
    "from sklearn.model_selection import train_test_split\n",
    "from sklearn.preprocessing import LabelEncoder, MinMaxScaler\n",
    "\n",
    "# Load the dataset\n",
    "data = pd.read_csv('data/data.csv')\n",
    "\n",
    "# Convert categorical features to numeric using label encoding\n",
    "categorical_features = ['gender', 'Partner', 'Dependents', 'PhoneService', 'MultipleLines', 'InternetService','OnlineSecurity', 'OnlineBackup', 'DeviceProtection', 'TechSupport', 'StreamingTV','StreamingMovies', 'Contract', 'PaperlessBilling', 'PaymentMethod']  # include more if needed\n",
    "encoder = LabelEncoder()\n",
    "\n",
    "for feature in categorical_features:\n",
    "    data[feature] = encoder.fit_transform(data[feature])\n",
    "\n",
    "# convert total charges to numeric\n",
    "data['TotalCharges'] = pd.to_numeric(data['TotalCharges'], errors='coerce')\n",
    "\n",
    "# handle missing values, if any\n",
    "data = data.dropna()\n",
    "\n",
    "# normalize numeric features to scale between 0 and 1\n",
    "scaler = MinMaxScaler()\n",
    "data[['tenure', 'MonthlyCharges', 'TotalCharges']] = scaler.fit_transform(\n",
    "    data[['tenure', 'MonthlyCharges', 'TotalCharges']])\n",
    "\n",
    "# Separate features and target\n",
    "X = data.drop('Churn', axis=1)\n",
    "X = X.drop(\"customerID\",axis=1)\n",
    "y = data['Churn']\n",
    "\n",
    "# Convert yes/no to 1/0 for target variable\n",
    "y = y.map({'Yes': 1, 'No': 0})\n",
    "\n",
    "# Split data into train and validation set\n",
    "X_train, X_val, y_train, y_val = train_test_split(X, y, test_size=0.2, random_state=1)\n",
    "\n",
    "# Convert to tensors\n",
    "X_train = torch.from_numpy(X_train.values).float()\n",
    "y_train = torch.from_numpy(y_train.values).long()\n",
    "\n",
    "X_val = torch.from_numpy(X_val.values).float()\n",
    "y_val = torch.from_numpy(y_val.values).long()\n"
   ],
   "id": "c588f0d8558ffe24",
   "outputs": [],
   "execution_count": null
  },
  {
   "metadata": {},
   "cell_type": "code",
   "source": "X_train.size()",
   "id": "1b345b1145983b36",
   "outputs": [],
   "execution_count": null
  },
  {
   "metadata": {},
   "cell_type": "markdown",
   "source": "",
   "id": "ec8cf9653f8049ba"
  },
  {
   "metadata": {},
   "cell_type": "markdown",
   "source": [
    "## LSTMChurnPredictor with 3-D shape\n",
    "\n",
    "```python\n",
    "from torch import nn\n",
    "\n",
    "\n",
    "class LSTMChurnPredictor(nn.Module):\n",
    "\n",
    "    def __init__(self, input_size, hidden_size, num_layers, output_size):\n",
    "        super(LSTMChurnPredictor, self).__init__()\n",
    "\n",
    "        self.hidden_size = hidden_size\n",
    "        self.num_layers = num_layers\n",
    "\n",
    "        self.lstm = nn.LSTM(input_size, hidden_size, num_layers, batch_first=True)\n",
    "        self.fc = nn.Linear(hidden_size, output_size)\n",
    "\n",
    "    def forward(self, x):\n",
    "        h0 = torch.zeros(self.num_layers, x.size(0), self.hidden_size).to(x.device)\n",
    "        c0 = torch.zeros(self.num_layers, x.size(0), self.hidden_size).to(x.device)\n",
    "\n",
    "        out, _ = self.lstm(x, (h0, c0))  # out shape : (batch_size, seq_length, hidden_size)\n",
    "        out = out[:, -1, :]\n",
    "        out = self.fc(out)\n",
    "\n",
    "        return out\n",
    "```"
   ],
   "id": "7e5093726608672f"
  },
  {
   "metadata": {},
   "cell_type": "markdown",
   "source": "## LSTMChurnPredictor with 2-D shape for loop train",
   "id": "91455546f2c7304d"
  },
  {
   "metadata": {},
   "cell_type": "code",
   "source": [
    "class LSTMChurnPredictor(nn.Module):\n",
    "\n",
    "    def __init__(self, input_size, hidden_size, num_layers, output_size):\n",
    "        super(LSTMChurnPredictor, self).__init__()\n",
    "\n",
    "        self.hidden_size = hidden_size\n",
    "        self.num_layers = num_layers\n",
    "\n",
    "        self.lstm = nn.LSTM(input_size, hidden_size, num_layers, batch_first=False)\n",
    "        self.fc = nn.Linear(hidden_size, output_size)\n",
    "\n",
    "    def forward(self, x):\n",
    "        h0 = torch.zeros(self.num_layers, 1, self.hidden_size).to(x.device)  # note the 1 here\n",
    "        c0 = torch.zeros(self.num_layers, 1, self.hidden_size).to(x.device)  # and here\n",
    "\n",
    "        out, _ = self.lstm(x.unsqueeze(1), (h0, c0))  # out shape : (seq_length, 1, hidden_size)\n",
    "        out = out[:, -1, :]\n",
    "        out = self.fc(out)\n",
    "\n",
    "        return out\n"
   ],
   "id": "58faf5cfa2d41080",
   "outputs": [],
   "execution_count": null
  },
  {
   "metadata": {},
   "cell_type": "markdown",
   "source": "## Loop train",
   "id": "7f42b005cce35545"
  },
  {
   "metadata": {},
   "cell_type": "code",
   "source": [
    "# Import necessary PyTorch libraries\n",
    "import torch\n",
    "from torch import optim, nn\n",
    "from torch.utils.data import TensorDataset, DataLoader\n",
    "\n",
    "# Number of input features\n",
    "input_size = 19\n",
    "# Number of hidden units for the LSTM\n",
    "hidden_size = 32\n",
    "# Number of LSTM layers\n",
    "num_layers = 2\n",
    "# Binary classification output\n",
    "output_size = 1\n",
    "# Define model\n",
    "model = LSTMChurnPredictor(input_size, hidden_size, num_layers, output_size)\n",
    "\n",
    "# Running on a CPU; for running on GPU, use model.to('cuda')\n",
    "device = torch.device(\"cuda\" if torch.cuda.is_available() else \"cpu\")\n",
    "model = model.to(device)\n",
    "\n",
    "# Choose the hyperparameters for training: \n",
    "num_epochs = 100\n",
    "learning_rate = 0.001\n",
    "\n",
    "# Define the loss function and the optimizer\n",
    "criterion = nn.BCEWithLogitsLoss()\n",
    "optimizer = optim.Adam(model.parameters(), lr=learning_rate)\n",
    "\n",
    "# DataLoader for your training and validation data\n",
    "train_data = TensorDataset(X_train, y_train)\n",
    "val_data = TensorDataset(X_val, y_val)\n",
    "batch_size = 32\n",
    "train_loader = DataLoader(train_data, shuffle=True, batch_size=batch_size)\n",
    "val_loader = DataLoader(val_data, shuffle=True, batch_size=batch_size)\n",
    "\n",
    "# Training loop\n",
    "for epoch in range(num_epochs):\n",
    "    for i, (customer_data, labels) in enumerate(train_loader):\n",
    "        customer_data = customer_data.to(device)\n",
    "        labels = labels.to(device)\n",
    "\n",
    "        # Forward pass\n",
    "        outputs = model(customer_data)\n",
    "        loss = criterion(outputs, labels.float().view(-1, 1))\n",
    "\n",
    "        # Backward and optimize\n",
    "        optimizer.zero_grad()\n",
    "        loss.backward()\n",
    "        optimizer.step()\n",
    "\n",
    "    # Validation\n",
    "    model.eval()\n",
    "    with torch.no_grad():\n",
    "        for customer_data, labels in val_loader:\n",
    "            outputs = model(customer_data)\n",
    "            val_loss = criterion(outputs, labels.float().view(-1, 1))\n",
    "    model.train()\n",
    "\n",
    "    # Print loss for every epoch\n",
    "    print('Epoch [{}/{}], Loss: {:.4f}, Val Loss: {:.4f}'.format(epoch + 1, num_epochs, loss.item(), val_loss.item()))\n"
   ],
   "id": "e634e9660d58d43e",
   "outputs": [],
   "execution_count": null
  },
  {
   "metadata": {},
   "cell_type": "markdown",
   "source": "## Predict churn",
   "id": "3c2a263775acd070"
  },
  {
   "metadata": {},
   "cell_type": "code",
   "source": [
    "def predict(model, input_data):\n",
    "    model.eval()  # set model to evaluation mode\n",
    "    with torch.no_grad():\n",
    "        predictions = model(input_data)\n",
    "        probs = torch.sigmoid(predictions).numpy()\n",
    "    return probs\n",
    "\n",
    "input_data = X_train\n",
    "\n",
    "# Get the probabilities with the helper function\n",
    "probs = predict(model, input_data)\n"
   ],
   "id": "91a55a95706cac7f",
   "outputs": [],
   "execution_count": null
  },
  {
   "metadata": {},
   "cell_type": "code",
   "source": "probs",
   "id": "9d99350927e2df3",
   "outputs": [],
   "execution_count": null
  },
  {
   "metadata": {},
   "cell_type": "code",
   "source": "predicted_classes = (probs > 0.5)",
   "id": "85b37ab8fba94f38",
   "outputs": [],
   "execution_count": null
  },
  {
   "metadata": {},
   "cell_type": "code",
   "source": "predicted_classes",
   "id": "4b69277ce82beacb",
   "outputs": [],
   "execution_count": null
  },
  {
   "metadata": {},
   "cell_type": "markdown",
   "source": "## Save the model",
   "id": "1744eff2e49c5b81"
  },
  {
   "metadata": {},
   "cell_type": "code",
   "source": [
    "PATH = \"model/model.pth\"\n",
    "\n",
    "torch.save(model.state_dict(), PATH)"
   ],
   "id": "3ed95afb194db1db",
   "outputs": [],
   "execution_count": null
  },
  {
   "metadata": {},
   "cell_type": "code",
   "source": [
    "df = pd.DataFrame(data=probs, columns=[\"Predicted Probability\"])\n",
    "df.to_csv('./model/predictions.csv', index=True)"
   ],
   "id": "8fac2784589e529e",
   "outputs": [],
   "execution_count": null
  }
 ],
 "metadata": {
  "kernelspec": {
   "display_name": "Python 3",
   "language": "python",
   "name": "python3"
  },
  "language_info": {
   "codemirror_mode": {
    "name": "ipython",
    "version": 2
   },
   "file_extension": ".py",
   "mimetype": "text/x-python",
   "name": "python",
   "nbconvert_exporter": "python",
   "pygments_lexer": "ipython2",
   "version": "2.7.6"
  }
 },
 "nbformat": 4,
 "nbformat_minor": 5
}
